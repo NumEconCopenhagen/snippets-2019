{
 "cells": [
  {
   "cell_type": "markdown",
   "metadata": {},
   "source": [
    "# Simulating the Solow-model"
   ]
  },
  {
   "cell_type": "markdown",
   "metadata": {},
   "source": [
    "**Author:** Jeppe Druedahl (jeppe.druedahl@econ.ku.dk)"
   ]
  },
  {
   "cell_type": "markdown",
   "metadata": {},
   "source": [
    "**Description:** This notebook shows how to simulate the canonical Solow-model."
   ]
  },
  {
   "cell_type": "markdown",
   "metadata": {},
   "source": [
    "# Imports"
   ]
  },
  {
   "cell_type": "code",
   "execution_count": 1,
   "metadata": {},
   "outputs": [],
   "source": [
    "import numpy as np\n",
    "import matplotlib.pyplot as plt"
   ]
  },
  {
   "cell_type": "markdown",
   "metadata": {},
   "source": [
    "# Solow-model"
   ]
  },
  {
   "cell_type": "markdown",
   "metadata": {},
   "source": [
    "The basic Solow-equation is:\n",
    "\n",
    "$$ k_{t+1} - k_t = s k_t^\\alpha - \\delta k_t $$"
   ]
  },
  {
   "cell_type": "markdown",
   "metadata": {},
   "source": [
    "In Python this is:"
   ]
  },
  {
   "cell_type": "code",
   "execution_count": 2,
   "metadata": {},
   "outputs": [],
   "source": [
    "def solow_equation(k,alpha,delta,s):\n",
    "    \"\"\" calculate capital in the next-period\n",
    "        \n",
    "    Args:\n",
    "    \n",
    "        k (float): capital in this period\n",
    "        alpha (float): cobb-douglas parameter\n",
    "        delta (float): depreciation rate\n",
    "        s (float): saving rate\n",
    "    \n",
    "    Returns:\n",
    "    \n",
    "        k_plus (float): capital in next period\n",
    "        \n",
    "    \"\"\"\n",
    "    \n",
    "    saving = s*k**alpha\n",
    "    depreciation = delta*k\n",
    "    k_plus = k + saving - depreciation    \n",
    "    \n",
    "    return k_plus"
   ]
  },
  {
   "cell_type": "markdown",
   "metadata": {},
   "source": [
    "This function simulates the Solow-model for $T$ periods."
   ]
  },
  {
   "cell_type": "code",
   "execution_count": 3,
   "metadata": {},
   "outputs": [],
   "source": [
    "def simulate_solow_model(k0,alpha,delta,s,T):\n",
    "    \"\"\" simulate the solow model\n",
    "        \n",
    "    Args:\n",
    "    \n",
    "        k0 (float): initial level of kapital\n",
    "        alpha (float): cobb-douglas parameter\n",
    "        delta (float): depreciation rate\n",
    "        s (float): saving rate\n",
    "        T (int): number of periods to simulate\n",
    "    \n",
    "    Returns:\n",
    "    \n",
    "        k_path (list): capital path (length T)\n",
    "        \n",
    "    \"\"\"\n",
    "    \n",
    "    # a. initialize\n",
    "    k_path = [k0]  \n",
    "    \n",
    "    # b. simulate forward\n",
    "    for t in range(1,T):\n",
    "        \n",
    "        # i. apply solow equation\n",
    "        k_plus = solow_equation(k_path[t-1],alpha,delta,s)    \n",
    "        \n",
    "        # ii. save result\n",
    "        k_path.append(k_plus)\n",
    "        \n",
    "    return k_path"
   ]
  },
  {
   "cell_type": "markdown",
   "metadata": {},
   "source": [
    "# Example"
   ]
  },
  {
   "cell_type": "markdown",
   "metadata": {},
   "source": [
    "Choose parameters:"
   ]
  },
  {
   "cell_type": "code",
   "execution_count": 4,
   "metadata": {},
   "outputs": [],
   "source": [
    "k0 =2\n",
    "alpha = 0.3\n",
    "delta = 0.1\n",
    "s = 0.3\n",
    "T = 150"
   ]
  },
  {
   "cell_type": "markdown",
   "metadata": {},
   "source": [
    "Run the simulation:"
   ]
  },
  {
   "cell_type": "code",
   "execution_count": 5,
   "metadata": {},
   "outputs": [],
   "source": [
    "k_path = simulate_solow_model(k0,alpha,delta,s,T)"
   ]
  },
  {
   "cell_type": "markdown",
   "metadata": {},
   "source": [
    "Plot the simulation:"
   ]
  },
  {
   "cell_type": "code",
   "execution_count": 7,
   "metadata": {},
   "outputs": [
    {
     "data": {
      "image/png": "[encoded data removed]",
      "text/plain": [
       "<Figure size 432x288 with 1 Axes>"
      ]
     },
     "metadata": {
      "needs_background": "light"
     },
     "output_type": "display_data"
    }
   ],
   "source": [
    "fig = plt.figure()\n",
    "ax = fig.add_subplot(1,1,1)\n",
    "\n",
    "ax.plot(k_path[:T],lw=2)\n",
    "ax.set_title('capital ($k_t$)')\n",
    "ax.set_xlim([0,T])\n",
    "ax.set_ylim([0,5]);"
   ]
  }
 ],
 "metadata": {
  "kernelspec": {
   "display_name": "Python 3",
   "language": "python",
   "name": "python3"
  },
  "language_info": {
   "codemirror_mode": {
    "name": "ipython",
    "version": 3
   },
   "file_extension": ".py",
   "mimetype": "text/x-python",
   "name": "python",
   "nbconvert_exporter": "python",
   "pygments_lexer": "ipython3",
   "version": "3.7.1"
  }
 },
 "nbformat": 4,
 "nbformat_minor": 2
}
